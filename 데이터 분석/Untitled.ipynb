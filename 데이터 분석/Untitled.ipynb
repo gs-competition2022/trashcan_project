{
 "cells": [
  {
   "cell_type": "code",
   "execution_count": 9,
   "metadata": {},
   "outputs": [],
   "source": [
    "import pandas as pd\n",
    "import folium\n",
    "dt = pd.DataFrame(pd.read_csv('../DATA_P/위경도.csv'))\n",
    "lat = dt['위도'].mean()\n",
    "long = dt['경도'].mean()\n",
    "\n",
    "m = folium.Map([lat,long],zoom_start=12)\n",
    "coords = []\n",
    "for i in range(len(dt)-1):\n",
    "    if dt['카테고리'][i] == '스마트가로등':\n",
    "        x = dt['위도'][i]\n",
    "        y = dt['경도'][i]\n",
    "        coords.append([x,y])\n",
    "#     else :\n",
    "#         print('wifi!')\n",
    "for i in range(len(coords)):\n",
    "    try :\n",
    "        folium.Circle(\n",
    "        location = coords[i],\n",
    "        radius = 0.2,\n",
    "        color = '#000111',\n",
    "        fill='crimson').add_to(m)\n",
    "    except :\n",
    "        continue\n",
    "    \n",
    "m.save('smlamp_map.html')"
   ]
  }
 ],
 "metadata": {
  "kernelspec": {
   "display_name": "Python 3",
   "language": "python",
   "name": "python3"
  },
  "language_info": {
   "codemirror_mode": {
    "name": "ipython",
    "version": 3
   },
   "file_extension": ".py",
   "mimetype": "text/x-python",
   "name": "python",
   "nbconvert_exporter": "python",
   "pygments_lexer": "ipython3",
   "version": "3.8.5"
  }
 },
 "nbformat": 4,
 "nbformat_minor": 4
}
