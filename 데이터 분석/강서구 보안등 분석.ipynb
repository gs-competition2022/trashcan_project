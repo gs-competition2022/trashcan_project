{
 "cells": [
  {
   "cell_type": "code",
   "execution_count": 1,
   "metadata": {},
   "outputs": [],
   "source": [
    "import pandas as pd\n",
    "import folium\n",
    "df = pd.read_csv(\"../DATA/서울특별시_강서구_보안등정보_20210319_1617002467263_1396924.csv\",encoding='cp949')\n",
    "df = pd.DataFrame(df)\n"
   ]
  },
  {
   "cell_type": "code",
   "execution_count": 7,
   "metadata": {},
   "outputs": [
    {
     "name": "stdout",
     "output_type": "stream",
     "text": [
      "[8608, 17]\n"
     ]
    }
   ],
   "source": [
    "ans = [0,0]\n",
    "for i in range(len(list(df['설치개수']))) :\n",
    "    if list(df['설치개수'])[i] == 1 :\n",
    "        ans[0]+=1\n",
    "    elif list(df['설치개수'])[i] == 2 :\n",
    "        ans[1] +=1\n",
    "print(ans)"
   ]
  },
  {
   "cell_type": "code",
   "execution_count": 28,
   "metadata": {},
   "outputs": [
    {
     "data": {
      "text/plain": [
       "21"
      ]
     },
     "execution_count": 28,
     "metadata": {},
     "output_type": "execute_result"
    }
   ],
   "source": [
    "hjd = []\n",
    "hjd_set = []\n",
    "for i in list(df['보안등위치명']):\n",
    "    a = ''\n",
    "    for w in range(len(i)) :\n",
    "        if i[w] != '동':\n",
    "            a+= i[w]\n",
    "        else : \n",
    "            a+= i[w]\n",
    "            break\n",
    "    if '개화근린공원' in a :\n",
    "        a = '방화동'\n",
    "    hjd.append(a)\n",
    "hjd_set = list(set(hjd))\n",
    "len(hjd_set)"
   ]
  },
  {
   "cell_type": "code",
   "execution_count": 26,
   "metadata": {},
   "outputs": [
    {
     "data": {
      "text/plain": [
       "['화곡2동',\n",
       " '방화1동',\n",
       " '화곡8동',\n",
       " '화곡6동',\n",
       " '우장산동',\n",
       " '방화2동',\n",
       " '등촌1동',\n",
       " '등촌3동',\n",
       " '가양2동',\n",
       " '발산1동',\n",
       " '가양3동',\n",
       " '공항동',\n",
       " '방화3동',\n",
       " '화곡1동',\n",
       " '화곡본동',\n",
       " '화곡4동',\n",
       " '등촌2동',\n",
       " '염창동',\n",
       " '화곡3동',\n",
       " '가양1동']"
      ]
     },
     "execution_count": 26,
     "metadata": {},
     "output_type": "execute_result"
    }
   ],
   "source": [
    "for i in hjd_set : \n",
    "    if '개화근린공원' in i:\n",
    "        hjd_set.remove(i)\n",
    "hjd_set"
   ]
  },
  {
   "cell_type": "code",
   "execution_count": 21,
   "metadata": {
    "scrolled": true
   },
   "outputs": [
    {
     "data": {
      "text/plain": [
       "0       가양1동\n",
       "1       가양1동\n",
       "2       가양1동\n",
       "3       가양1동\n",
       "4       가양1동\n",
       "        ... \n",
       "8620    화곡본동\n",
       "8621    화곡본동\n",
       "8622    화곡본동\n",
       "8623    화곡본동\n",
       "8624    화곡본동\n",
       "Name: 행정동, Length: 8625, dtype: object"
      ]
     },
     "execution_count": 21,
     "metadata": {},
     "output_type": "execute_result"
    }
   ],
   "source": [
    "df['행정동'] = hjd\n",
    "df['행정동']"
   ]
  },
  {
   "cell_type": "code",
   "execution_count": 24,
   "metadata": {},
   "outputs": [
    {
     "data": {
      "text/html": [
       "<div>\n",
       "<style scoped>\n",
       "    .dataframe tbody tr th:only-of-type {\n",
       "        vertical-align: middle;\n",
       "    }\n",
       "\n",
       "    .dataframe tbody tr th {\n",
       "        vertical-align: top;\n",
       "    }\n",
       "\n",
       "    .dataframe thead th {\n",
       "        text-align: right;\n",
       "    }\n",
       "</style>\n",
       "<table border=\"1\" class=\"dataframe\">\n",
       "  <thead>\n",
       "    <tr style=\"text-align: right;\">\n",
       "      <th></th>\n",
       "      <th>hjd</th>\n",
       "      <th>num</th>\n",
       "    </tr>\n",
       "  </thead>\n",
       "  <tbody>\n",
       "    <tr>\n",
       "      <th>0</th>\n",
       "      <td>화곡2동</td>\n",
       "      <td>412</td>\n",
       "    </tr>\n",
       "    <tr>\n",
       "      <th>1</th>\n",
       "      <td>개화근린공원37</td>\n",
       "      <td>1</td>\n",
       "    </tr>\n",
       "    <tr>\n",
       "      <th>2</th>\n",
       "      <td>방화1동</td>\n",
       "      <td>598</td>\n",
       "    </tr>\n",
       "    <tr>\n",
       "      <th>3</th>\n",
       "      <td>화곡8동</td>\n",
       "      <td>542</td>\n",
       "    </tr>\n",
       "    <tr>\n",
       "      <th>4</th>\n",
       "      <td>화곡6동</td>\n",
       "      <td>509</td>\n",
       "    </tr>\n",
       "    <tr>\n",
       "      <th>5</th>\n",
       "      <td>우장산동</td>\n",
       "      <td>503</td>\n",
       "    </tr>\n",
       "    <tr>\n",
       "      <th>6</th>\n",
       "      <td>방화2동</td>\n",
       "      <td>767</td>\n",
       "    </tr>\n",
       "    <tr>\n",
       "      <th>7</th>\n",
       "      <td>등촌1동</td>\n",
       "      <td>333</td>\n",
       "    </tr>\n",
       "    <tr>\n",
       "      <th>8</th>\n",
       "      <td>등촌3동</td>\n",
       "      <td>78</td>\n",
       "    </tr>\n",
       "    <tr>\n",
       "      <th>9</th>\n",
       "      <td>가양2동</td>\n",
       "      <td>9</td>\n",
       "    </tr>\n",
       "    <tr>\n",
       "      <th>10</th>\n",
       "      <td>발산1동</td>\n",
       "      <td>307</td>\n",
       "    </tr>\n",
       "    <tr>\n",
       "      <th>11</th>\n",
       "      <td>가양3동</td>\n",
       "      <td>33</td>\n",
       "    </tr>\n",
       "    <tr>\n",
       "      <th>12</th>\n",
       "      <td>공항동</td>\n",
       "      <td>711</td>\n",
       "    </tr>\n",
       "    <tr>\n",
       "      <th>13</th>\n",
       "      <td>방화3동</td>\n",
       "      <td>145</td>\n",
       "    </tr>\n",
       "    <tr>\n",
       "      <th>14</th>\n",
       "      <td>화곡1동</td>\n",
       "      <td>993</td>\n",
       "    </tr>\n",
       "    <tr>\n",
       "      <th>15</th>\n",
       "      <td>화곡본동</td>\n",
       "      <td>781</td>\n",
       "    </tr>\n",
       "    <tr>\n",
       "      <th>16</th>\n",
       "      <td>화곡4동</td>\n",
       "      <td>525</td>\n",
       "    </tr>\n",
       "    <tr>\n",
       "      <th>17</th>\n",
       "      <td>등촌2동</td>\n",
       "      <td>412</td>\n",
       "    </tr>\n",
       "    <tr>\n",
       "      <th>18</th>\n",
       "      <td>염창동</td>\n",
       "      <td>417</td>\n",
       "    </tr>\n",
       "    <tr>\n",
       "      <th>19</th>\n",
       "      <td>개화근린공원36</td>\n",
       "      <td>1</td>\n",
       "    </tr>\n",
       "    <tr>\n",
       "      <th>20</th>\n",
       "      <td>화곡3동</td>\n",
       "      <td>318</td>\n",
       "    </tr>\n",
       "    <tr>\n",
       "      <th>21</th>\n",
       "      <td>가양1동</td>\n",
       "      <td>230</td>\n",
       "    </tr>\n",
       "  </tbody>\n",
       "</table>\n",
       "</div>"
      ],
      "text/plain": [
       "         hjd  num\n",
       "0       화곡2동  412\n",
       "1   개화근린공원37    1\n",
       "2       방화1동  598\n",
       "3       화곡8동  542\n",
       "4       화곡6동  509\n",
       "5       우장산동  503\n",
       "6       방화2동  767\n",
       "7       등촌1동  333\n",
       "8       등촌3동   78\n",
       "9       가양2동    9\n",
       "10      발산1동  307\n",
       "11      가양3동   33\n",
       "12       공항동  711\n",
       "13      방화3동  145\n",
       "14      화곡1동  993\n",
       "15      화곡본동  781\n",
       "16      화곡4동  525\n",
       "17      등촌2동  412\n",
       "18       염창동  417\n",
       "19  개화근린공원36    1\n",
       "20      화곡3동  318\n",
       "21      가양1동  230"
      ]
     },
     "execution_count": 24,
     "metadata": {},
     "output_type": "execute_result"
    }
   ],
   "source": [
    "nu = []\n",
    "for i in hjd_set :\n",
    "    n = 0\n",
    "    for k in hjd :\n",
    "        if i == k :\n",
    "            n +=1 \n",
    "    nu.append(n)\n",
    "d = pd.DataFrame()\n",
    "d['hjd'] = hjd_set\n",
    "d['num'] = nu\n",
    "\n",
    "d"
   ]
  }
 ],
 "metadata": {
  "kernelspec": {
   "display_name": "Python 3",
   "language": "python",
   "name": "python3"
  },
  "language_info": {
   "codemirror_mode": {
    "name": "ipython",
    "version": 3
   },
   "file_extension": ".py",
   "mimetype": "text/x-python",
   "name": "python",
   "nbconvert_exporter": "python",
   "pygments_lexer": "ipython3",
   "version": "3.8.5"
  }
 },
 "nbformat": 4,
 "nbformat_minor": 4
}
