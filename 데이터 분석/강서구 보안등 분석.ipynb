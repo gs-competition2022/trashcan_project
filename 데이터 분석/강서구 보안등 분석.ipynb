{
 "cells": [
  {
   "cell_type": "code",
   "execution_count": 16,
   "metadata": {},
   "outputs": [
    {
     "data": {
      "text/html": [
       "<div>\n",
       "<style scoped>\n",
       "    .dataframe tbody tr th:only-of-type {\n",
       "        vertical-align: middle;\n",
       "    }\n",
       "\n",
       "    .dataframe tbody tr th {\n",
       "        vertical-align: top;\n",
       "    }\n",
       "\n",
       "    .dataframe thead th {\n",
       "        text-align: right;\n",
       "    }\n",
       "</style>\n",
       "<table border=\"1\" class=\"dataframe\">\n",
       "  <thead>\n",
       "    <tr style=\"text-align: right;\">\n",
       "      <th></th>\n",
       "      <th>보안등위치명</th>\n",
       "      <th>설치개수</th>\n",
       "      <th>소재지도로명주소</th>\n",
       "      <th>소재지지번주소</th>\n",
       "      <th>위도</th>\n",
       "      <th>경도</th>\n",
       "      <th>설치연도</th>\n",
       "      <th>설치형태</th>\n",
       "      <th>관리기관전화번호</th>\n",
       "      <th>관리기관명</th>\n",
       "      <th>데이터기준일자</th>\n",
       "    </tr>\n",
       "  </thead>\n",
       "  <tbody>\n",
       "    <tr>\n",
       "      <th>0</th>\n",
       "      <td>가양1동001</td>\n",
       "      <td>1</td>\n",
       "      <td>서울특별시 강서구 강서로 527</td>\n",
       "      <td>서울특별시 강서구 가양동 1456-11</td>\n",
       "      <td>37.572503</td>\n",
       "      <td>126.842042</td>\n",
       "      <td>NaN</td>\n",
       "      <td>한전주</td>\n",
       "      <td>02-2600-6582</td>\n",
       "      <td>서울특별시 강서구청</td>\n",
       "      <td>2021-03-19</td>\n",
       "    </tr>\n",
       "    <tr>\n",
       "      <th>1</th>\n",
       "      <td>가양1동002</td>\n",
       "      <td>1</td>\n",
       "      <td>서울특별시 강서구 강서로 521</td>\n",
       "      <td>서울특별시 강서구 가양동 1457</td>\n",
       "      <td>37.572176</td>\n",
       "      <td>126.841679</td>\n",
       "      <td>NaN</td>\n",
       "      <td>한전주</td>\n",
       "      <td>02-2600-6582</td>\n",
       "      <td>서울특별시 강서구청</td>\n",
       "      <td>2021-03-19</td>\n",
       "    </tr>\n",
       "    <tr>\n",
       "      <th>2</th>\n",
       "      <td>가양1동003</td>\n",
       "      <td>1</td>\n",
       "      <td>서울특별시 강서구 강서로 521</td>\n",
       "      <td>서울특별시 강서구 가양동 1457</td>\n",
       "      <td>37.572176</td>\n",
       "      <td>126.841679</td>\n",
       "      <td>NaN</td>\n",
       "      <td>한전주</td>\n",
       "      <td>02-2600-6582</td>\n",
       "      <td>서울특별시 강서구청</td>\n",
       "      <td>2021-03-19</td>\n",
       "    </tr>\n",
       "    <tr>\n",
       "      <th>3</th>\n",
       "      <td>가양1동004</td>\n",
       "      <td>1</td>\n",
       "      <td>서울특별시 강서구 강서로 519-42</td>\n",
       "      <td>서울특별시 강서구 가양동 225-1</td>\n",
       "      <td>37.571899</td>\n",
       "      <td>126.841075</td>\n",
       "      <td>NaN</td>\n",
       "      <td>한전주</td>\n",
       "      <td>02-2600-6582</td>\n",
       "      <td>서울특별시 강서구청</td>\n",
       "      <td>2021-03-19</td>\n",
       "    </tr>\n",
       "    <tr>\n",
       "      <th>4</th>\n",
       "      <td>가양1동005</td>\n",
       "      <td>1</td>\n",
       "      <td>서울특별시 강서구 강서로 519-17</td>\n",
       "      <td>서울특별시 강서구 가양동 198-5</td>\n",
       "      <td>37.571660</td>\n",
       "      <td>126.840895</td>\n",
       "      <td>NaN</td>\n",
       "      <td>한전주</td>\n",
       "      <td>02-2600-6582</td>\n",
       "      <td>서울특별시 강서구청</td>\n",
       "      <td>2021-03-19</td>\n",
       "    </tr>\n",
       "  </tbody>\n",
       "</table>\n",
       "</div>"
      ],
      "text/plain": [
       "    보안등위치명  설치개수              소재지도로명주소                소재지지번주소         위도  \\\n",
       "0  가양1동001     1     서울특별시 강서구 강서로 527  서울특별시 강서구 가양동 1456-11  37.572503   \n",
       "1  가양1동002     1     서울특별시 강서구 강서로 521     서울특별시 강서구 가양동 1457  37.572176   \n",
       "2  가양1동003     1     서울특별시 강서구 강서로 521     서울특별시 강서구 가양동 1457  37.572176   \n",
       "3  가양1동004     1  서울특별시 강서구 강서로 519-42    서울특별시 강서구 가양동 225-1  37.571899   \n",
       "4  가양1동005     1  서울특별시 강서구 강서로 519-17    서울특별시 강서구 가양동 198-5  37.571660   \n",
       "\n",
       "           경도  설치연도 설치형태      관리기관전화번호       관리기관명     데이터기준일자  \n",
       "0  126.842042   NaN  한전주  02-2600-6582  서울특별시 강서구청  2021-03-19  \n",
       "1  126.841679   NaN  한전주  02-2600-6582  서울특별시 강서구청  2021-03-19  \n",
       "2  126.841679   NaN  한전주  02-2600-6582  서울특별시 강서구청  2021-03-19  \n",
       "3  126.841075   NaN  한전주  02-2600-6582  서울특별시 강서구청  2021-03-19  \n",
       "4  126.840895   NaN  한전주  02-2600-6582  서울특별시 강서구청  2021-03-19  "
      ]
     },
     "execution_count": 16,
     "metadata": {},
     "output_type": "execute_result"
    }
   ],
   "source": [
    "import pandas as pd\n",
    "import folium\n",
    "df = pd.read_csv(\"../DATA/서울특별시_강서구_보안등정보_20210319_1617002467263_1396924.csv\",encoding='cp949')\n",
    "df = pd.DataFrame(df)\n",
    "df.head()"
   ]
  },
  {
   "cell_type": "code",
   "execution_count": 2,
   "metadata": {},
   "outputs": [
    {
     "name": "stdout",
     "output_type": "stream",
     "text": [
      "[8608, 17]\n"
     ]
    }
   ],
   "source": [
    "ans = [0,0]\n",
    "for i in range(len(list(df['설치개수']))) :\n",
    "    if list(df['설치개수'])[i] == 1 :\n",
    "        ans[0]+=1\n",
    "    elif list(df['설치개수'])[i] == 2 :\n",
    "        ans[1] +=1\n",
    "print(ans)"
   ]
  },
  {
   "cell_type": "code",
   "execution_count": 9,
   "metadata": {},
   "outputs": [
    {
     "data": {
      "text/plain": [
       "20"
      ]
     },
     "execution_count": 9,
     "metadata": {},
     "output_type": "execute_result"
    }
   ],
   "source": [
    "hjd = []\n",
    "hjd_set = []\n",
    "for i in list(df['보안등위치명']):\n",
    "    a = ''\n",
    "    for w in range(len(i)) :\n",
    "        if i[w] != '동':\n",
    "            a+= i[w]\n",
    "        else : \n",
    "            a+= i[w]\n",
    "            break\n",
    "    if '개화근린공원' in a :\n",
    "        a = '방화2동'\n",
    "    hjd.append(a)\n",
    "hjd_set = list(set(hjd))\n",
    "len(hjd_set)"
   ]
  },
  {
   "cell_type": "code",
   "execution_count": 10,
   "metadata": {
    "scrolled": true
   },
   "outputs": [
    {
     "data": {
      "text/plain": [
       "0       가양1동\n",
       "1       가양1동\n",
       "2       가양1동\n",
       "3       가양1동\n",
       "4       가양1동\n",
       "        ... \n",
       "8620    화곡본동\n",
       "8621    화곡본동\n",
       "8622    화곡본동\n",
       "8623    화곡본동\n",
       "8624    화곡본동\n",
       "Name: 행정동, Length: 8625, dtype: object"
      ]
     },
     "execution_count": 10,
     "metadata": {},
     "output_type": "execute_result"
    }
   ],
   "source": [
    "df['행정동'] = hjd\n",
    "df['행정동']"
   ]
  },
  {
   "cell_type": "code",
   "execution_count": 12,
   "metadata": {},
   "outputs": [],
   "source": [
    "nu = []\n",
    "for i in hjd_set :\n",
    "    n = 0\n",
    "    for k in hjd :\n",
    "        if i == k :\n",
    "            n +=1 \n",
    "    nu.append(n)\n",
    "d = pd.DataFrame()\n",
    "d['hjd'] = hjd_set\n",
    "d['num'] = nu\n"
   ]
  },
  {
   "cell_type": "code",
   "execution_count": 15,
   "metadata": {},
   "outputs": [],
   "source": [
    "d = d.to_csv('../DATA_P/강서구 보안등.csv')"
   ]
  },
  {
   "cell_type": "code",
   "execution_count": 19,
   "metadata": {},
   "outputs": [],
   "source": [
    "df['카테고리'] = ['보안등'] * len(df)\n",
    "df[['카테고리','위도','경도']].to_csv('../DATA_P/보안등 위경도.csv')"
   ]
  }
 ],
 "metadata": {
  "kernelspec": {
   "display_name": "Python 3",
   "language": "python",
   "name": "python3"
  },
  "language_info": {
   "codemirror_mode": {
    "name": "ipython",
    "version": 3
   },
   "file_extension": ".py",
   "mimetype": "text/x-python",
   "name": "python",
   "nbconvert_exporter": "python",
   "pygments_lexer": "ipython3",
   "version": "3.8.5"
  }
 },
 "nbformat": 4,
 "nbformat_minor": 4
}
