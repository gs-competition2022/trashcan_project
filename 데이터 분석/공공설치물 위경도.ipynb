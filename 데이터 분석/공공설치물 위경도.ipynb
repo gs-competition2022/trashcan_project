{
 "cells": [
  {
   "cell_type": "code",
   "execution_count": 1,
   "metadata": {},
   "outputs": [],
   "source": [
    "import pandas as pd\n",
    "\n",
    "d1 = pd.read_csv('../DATA_P/보안등 위경도.csv')\n",
    "d2 = pd.read_csv('../DATA_P/스마트가로등 위경도.csv')\n",
    "d3 = pd.read_csv('../DATA_P/와이파이 위경도.csv')\n",
    "d1 = pd.DataFrame(d1)\n",
    "d2 = pd.DataFrame(d2)\n",
    "d3 = pd.DataFrame(d3)\n",
    "d = pd.concat([d1, d2])\n",
    "d3['위도'] = d3['lnt']\n",
    "d3['경도'] = d3['lat']\n",
    "d3 = d3[['카테고리','위도','경도']]\n",
    "d = pd.concat([d,d3])\n",
    "d = d.reset_index()\n",
    "d = d[['카테고리','위도','경도']]\n",
    "d.to_csv('../DATA_P/위경도.csv')"
   ]
  }
 ],
 "metadata": {
  "kernelspec": {
   "display_name": "Python 3",
   "language": "python",
   "name": "python3"
  },
  "language_info": {
   "codemirror_mode": {
    "name": "ipython",
    "version": 3
   },
   "file_extension": ".py",
   "mimetype": "text/x-python",
   "name": "python",
   "nbconvert_exporter": "python",
   "pygments_lexer": "ipython3",
   "version": "3.8.5"
  }
 },
 "nbformat": 4,
 "nbformat_minor": 4
}
